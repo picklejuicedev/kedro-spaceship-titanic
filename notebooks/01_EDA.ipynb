{
 "cells": [
  {
   "cell_type": "code",
   "execution_count": null,
   "id": "7fedb0fa-6aa3-4509-a42a-cfdee834f40d",
   "metadata": {},
   "outputs": [],
   "source": [
    "df_train = catalog.load(\"train.input\")\n",
    "df_train.head()"
   ]
  },
  {
   "cell_type": "markdown",
   "id": "91112853-7e74-468b-939d-953fadbfd5db",
   "metadata": {},
   "source": [
    "**PassengerId** - A unique Id for each passenger. Each Id takes the form gggg_pp where gggg indicates a group the passenger is travelling with and pp is their number within the group. People in a group are often family members, but not always.\n",
    "\n",
    "**HomePlanet** - The planet the passenger departed from, typically their planet of permanent residence.\n",
    "\n",
    "**CryoSleep** - Indicates whether the passenger elected to be put into suspended animation for the duration of the voyage. Passengers in cryosleep are confined to their cabins.\n",
    "\n",
    "**Cabin** - The cabin number where the passenger is staying. Takes the form deck/num/side, where side can be either P for Port or S for Starboard.\n",
    "\n",
    "**Destination** - The planet the passenger will be debarking to.\n",
    "\n",
    "**Age** - The age of the passenger.\n",
    "\n",
    "**VIP** - Whether the passenger has paid for special VIP service during the voyage.\n",
    "\n",
    "**RoomService, FoodCourt, ShoppingMall, Spa, VRDeck** - Amount the passenger has billed at each of the Spaceship Titanic's many luxury amenities.\n",
    "\n",
    "**Name** - The first and last names of the passenger.\n",
    "\n",
    "**Transported** - Whether the passenger was transported to another dimension. This is the target, the column you are trying to predict.\n"
   ]
  },
  {
   "cell_type": "code",
   "execution_count": null,
   "id": "7835ef61-ed14-4f70-8cca-143cc563070a",
   "metadata": {},
   "outputs": [],
   "source": [
    "df_train.info()\n"
   ]
  },
  {
   "cell_type": "code",
   "execution_count": null,
   "id": "35a2a60e-a005-4d5f-a8db-1c00521aa480",
   "metadata": {},
   "outputs": [],
   "source": [
    "#!pip install missingno\n",
    "import missingno\n",
    "missingno.matrix(df_train)"
   ]
  },
  {
   "cell_type": "code",
   "execution_count": null,
   "id": "658fdb1c-bee7-4021-a773-7af1595f6df7",
   "metadata": {},
   "outputs": [],
   "source": [
    "df_train.isna().sum()"
   ]
  },
  {
   "cell_type": "markdown",
   "id": "c5d00bf0-eafb-4d7f-bb8b-3375538af9af",
   "metadata": {},
   "source": [
    "**missing values**: let's see what matters and inspect individual proprties to see if we just fill with values or drop."
   ]
  },
  {
   "cell_type": "markdown",
   "id": "a6f14ac4-c7f1-4f4c-a30e-91c22d092f42",
   "metadata": {},
   "source": [
    "To Do:\n",
    "- create `travel alone` param\n",
    "- enum HomePlanet\n",
    "- CryoSleep to bool\n",
    "- split cabin into deck, num, side\n",
    "- Destination into enum\n",
    "- VIP to bool\n",
    "- calc total spending\n",
    "- (has family)"
   ]
  },
  {
   "cell_type": "markdown",
   "id": "c3f3b54f-2367-493c-b5ee-c3aa8da431d1",
   "metadata": {},
   "source": [
    "## Travelling alone?"
   ]
  },
  {
   "cell_type": "code",
   "execution_count": null,
   "id": "3c5f9f9e-db96-4916-8834-690902da4c3b",
   "metadata": {},
   "outputs": [],
   "source": [
    "# traveling alone\n",
    "\n",
    "# split out group id\n",
    "# create list of non-unique group ids\n",
    "# create alone property, set true if not in group list\n",
    "\n",
    "split_df = df_train[\"PassengerId\"].str.split(pat=\"_\",expand=True)\n",
    "split_df.head()"
   ]
  },
  {
   "cell_type": "code",
   "execution_count": null,
   "id": "2ba86ffd-aac6-48df-baa7-27e89886a64a",
   "metadata": {},
   "outputs": [],
   "source": [
    "alone = split_df[0].value_counts() == 1\n",
    "alone.head()"
   ]
  },
  {
   "cell_type": "code",
   "execution_count": null,
   "id": "65413b29-26aa-402a-a869-db47d98ea548",
   "metadata": {},
   "outputs": [],
   "source": [
    "split_df = split_df.merge(alone.rename(\"alone\"), left_on=0, right_index=True)"
   ]
  },
  {
   "cell_type": "code",
   "execution_count": null,
   "id": "71fb12e4-253e-4ee8-9586-4ab796318572",
   "metadata": {},
   "outputs": [],
   "source": [
    "df_train[\"alone\"] = split_df['alone']\n",
    "df_train.head()"
   ]
  },
  {
   "cell_type": "markdown",
   "id": "616f2044-463c-4db0-acaa-cafc1881b46b",
   "metadata": {},
   "source": [
    "## Homeplanet"
   ]
  },
  {
   "cell_type": "code",
   "execution_count": null,
   "id": "b468c9c1-9009-4b27-98c5-754bed8001ac",
   "metadata": {},
   "outputs": [],
   "source": [
    "df_train[\"HomePlanet\"].value_counts()"
   ]
  },
  {
   "cell_type": "code",
   "execution_count": null,
   "id": "81877489-6f68-42b4-8a92-a44a52c4f65a",
   "metadata": {},
   "outputs": [],
   "source": [
    "#!pip install sklearn"
   ]
  },
  {
   "cell_type": "code",
   "execution_count": null,
   "id": "b4c6c4c7-44d4-4a4b-95e7-5bf94adaae2b",
   "metadata": {},
   "outputs": [],
   "source": [
    "from sklearn import preprocessing\n",
    "le = preprocessing.LabelEncoder()\n",
    "le.fit(df_train['HomePlanet'])\n",
    "df_train['HomePlanet'] = le.transform(df_train['HomePlanet'])\n",
    "df_train.head()"
   ]
  },
  {
   "cell_type": "markdown",
   "id": "a96fba0c-6782-4901-9a39-6a1640d96faa",
   "metadata": {},
   "source": [
    "## CryoSleep"
   ]
  },
  {
   "cell_type": "code",
   "execution_count": null,
   "id": "709addc6-88b2-4dd9-95a4-5d46571baef7",
   "metadata": {},
   "outputs": [],
   "source": [
    "le.fit(df_train['CryoSleep'])\n",
    "df_train['CryoSleep'] = le.transform(df_train['CryoSleep'])\n",
    "df_train.head()"
   ]
  },
  {
   "cell_type": "code",
   "execution_count": null,
   "id": "8d8f8620-0356-4454-a72c-a0ab1eafd729",
   "metadata": {},
   "outputs": [],
   "source": [
    "df_train[\"CryoSleep\"].value_counts()"
   ]
  },
  {
   "cell_type": "markdown",
   "id": "a3a1eb42-ecfe-4811-b578-0b2130cf9736",
   "metadata": {},
   "source": [
    "## Cabin"
   ]
  },
  {
   "cell_type": "code",
   "execution_count": null,
   "id": "03d30b5e-5c18-4fdd-976c-3ed30f71588d",
   "metadata": {},
   "outputs": [],
   "source": [
    "df_cab = df_train[\"Cabin\"].str.split(pat=\"/\",expand=True)\n",
    "df_cab.head()"
   ]
  },
  {
   "cell_type": "code",
   "execution_count": null,
   "id": "929187d5-d1ae-4f8e-9be8-f57adb899aba",
   "metadata": {},
   "outputs": [],
   "source": [
    "df_train[\"Deck\"] = df_cab[0]\n",
    "df_train[\"Room\"] = df_cab[1]\n",
    "df_train[\"Side\"] = df_cab[2]\n",
    "df_train.head()"
   ]
  },
  {
   "cell_type": "code",
   "execution_count": null,
   "id": "677e436b-587a-4b10-bbf8-3db8854ad483",
   "metadata": {},
   "outputs": [],
   "source": [
    "le.fit(df_train['Deck'])\n",
    "df_train['Deck'] = le.transform(df_train['Deck'])\n",
    "le.fit(df_train['Side'])\n",
    "df_train['Side'] = le.transform(df_train['Side'])\n",
    "df_train.head()"
   ]
  },
  {
   "cell_type": "code",
   "execution_count": null,
   "id": "84375ae7-43f4-4098-a3ff-65d7f70f8ee5",
   "metadata": {},
   "outputs": [],
   "source": [
    "df_train['Side'].value_counts()"
   ]
  },
  {
   "cell_type": "code",
   "execution_count": null,
   "id": "e3a15ff4-80b1-4aa1-9f8e-9d812a1be9d7",
   "metadata": {},
   "outputs": [],
   "source": [
    "df_train['Deck'].value_counts()"
   ]
  },
  {
   "cell_type": "code",
   "execution_count": null,
   "id": "46857b3a-18e7-4728-979c-ad7e3c03013a",
   "metadata": {},
   "outputs": [],
   "source": [
    "# let's drop cabin\n",
    "df_train = df_train.drop(\"Cabin\", axis=1)"
   ]
  },
  {
   "cell_type": "markdown",
   "id": "b3e07053-b6b7-4077-9b11-19bd14fa31ab",
   "metadata": {},
   "source": [
    "## Destination\n"
   ]
  },
  {
   "cell_type": "code",
   "execution_count": null,
   "id": "68400e01-9c23-41a3-add3-e389c24ce081",
   "metadata": {},
   "outputs": [],
   "source": [
    "df_train['Destination'].value_counts()"
   ]
  },
  {
   "cell_type": "code",
   "execution_count": null,
   "id": "d31fe063-6091-4cdf-87d6-da35be705e50",
   "metadata": {},
   "outputs": [],
   "source": [
    "le.fit(df_train['Destination'])\n",
    "df_train['Destination'] = le.transform(df_train['Destination'])"
   ]
  },
  {
   "cell_type": "markdown",
   "id": "e8452a5b-cd31-41f3-ad66-37bc749dd32f",
   "metadata": {},
   "source": [
    "## VIP"
   ]
  },
  {
   "cell_type": "code",
   "execution_count": null,
   "id": "f35d0bdd-225f-4f71-b81f-3764905f7d5a",
   "metadata": {},
   "outputs": [],
   "source": [
    "le.fit(df_train['VIP'])\n",
    "df_train['VIP'] = le.transform(df_train['VIP'])"
   ]
  },
  {
   "cell_type": "markdown",
   "id": "522132d1-af0f-4908-93bd-b39f6f5b96d1",
   "metadata": {},
   "source": [
    "## check for Nan"
   ]
  },
  {
   "cell_type": "code",
   "execution_count": null,
   "id": "22219344-a892-4c30-9c1e-d45f12d5e986",
   "metadata": {},
   "outputs": [],
   "source": [
    "df_train.isna().sum()"
   ]
  },
  {
   "cell_type": "markdown",
   "id": "1fe3c1aa-7bce-44fc-934c-5707a0f3626b",
   "metadata": {},
   "source": [
    "let's:\n",
    "- all price related cols to 0.0\n",
    "- age to avg\n",
    "- Room to 0\n",
    "- name to \"no Name"
   ]
  },
  {
   "cell_type": "code",
   "execution_count": null,
   "id": "847ed8a7-fd74-4c1a-a247-a0ebcbb3c97b",
   "metadata": {},
   "outputs": [],
   "source": [
    "cols = [\"RoomService\",\"FoodCourt\",\"ShoppingMall\",\"Spa\",\"VRDeck\"]\n",
    "df_train[cols]=df_train[cols].fillna(0.0)"
   ]
  },
  {
   "cell_type": "code",
   "execution_count": null,
   "id": "4b6ae8fd-dbc7-4dde-86ff-02ece6800c3c",
   "metadata": {},
   "outputs": [],
   "source": [
    "df_train[\"Age\"].median()"
   ]
  },
  {
   "cell_type": "code",
   "execution_count": null,
   "id": "bf47104d-ddfd-4c7f-ab8f-6a05c865fdad",
   "metadata": {},
   "outputs": [],
   "source": [
    "df_train[\"Age\"] = df_train[\"Age\"].fillna(27)"
   ]
  },
  {
   "cell_type": "code",
   "execution_count": null,
   "id": "bdd6159e-e31e-4691-90e0-dd888d111db9",
   "metadata": {},
   "outputs": [],
   "source": [
    "df_train[\"Name\"] = df_train[\"Name\"].fillna(\"No Name\")"
   ]
  },
  {
   "cell_type": "code",
   "execution_count": null,
   "id": "2a242a68-f45e-4029-af93-4c0068f6c449",
   "metadata": {},
   "outputs": [],
   "source": [
    "df_train[\"Room\"] = df_train[\"Room\"].fillna(0)"
   ]
  },
  {
   "cell_type": "code",
   "execution_count": null,
   "id": "b8723a61-8a3f-46a1-830c-c70481839d29",
   "metadata": {},
   "outputs": [],
   "source": [
    "df_train.isna().sum()"
   ]
  },
  {
   "cell_type": "markdown",
   "id": "ff5104a9-e342-46a1-b434-8d7e27febbe7",
   "metadata": {},
   "source": [
    "## Total Spend"
   ]
  },
  {
   "cell_type": "code",
   "execution_count": null,
   "id": "82b2dc02-b6b0-4d06-b751-5c4c027a1c44",
   "metadata": {},
   "outputs": [],
   "source": [
    "# let's make Nan to "
   ]
  },
  {
   "cell_type": "code",
   "execution_count": null,
   "id": "ec9aac25-d9f6-437e-81e6-a3e171c35681",
   "metadata": {},
   "outputs": [],
   "source": [
    "df_train[\"TotalSpend\"] = df_train[\"RoomService\"] + df_train[\"FoodCourt\"] + df_train[\"ShoppingMall\"] + df_train[\"Spa\"] + df_train[\"VRDeck\"]\n",
    "df_train.head()"
   ]
  },
  {
   "cell_type": "code",
   "execution_count": null,
   "id": "43fd954f-7e9e-492c-a0aa-63d4d4b4d896",
   "metadata": {},
   "outputs": [],
   "source": [
    "corr_matrix = df_train.corr(method='pearson')\n",
    "corr_matrix.style.background_gradient(cmap='coolwarm')"
   ]
  },
  {
   "cell_type": "code",
   "execution_count": null,
   "id": "501dd038-eae4-49b9-b0c4-3deb739bee7d",
   "metadata": {},
   "outputs": [],
   "source": []
  },
  {
   "cell_type": "code",
   "execution_count": null,
   "id": "82a39079-ffda-4a35-86a6-ce00387f69c4",
   "metadata": {},
   "outputs": [],
   "source": []
  }
 ],
 "metadata": {
  "kernelspec": {
   "display_name": "Kedro (spaceship_titanic)",
   "language": "python",
   "name": "kedro_spaceship_titanic"
  },
  "language_info": {
   "codemirror_mode": {
    "name": "ipython",
    "version": 3
   },
   "file_extension": ".py",
   "mimetype": "text/x-python",
   "name": "python",
   "nbconvert_exporter": "python",
   "pygments_lexer": "ipython3",
   "version": "3.10.7"
  }
 },
 "nbformat": 4,
 "nbformat_minor": 5
}
